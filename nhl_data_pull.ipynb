{
 "cells": [
  {
   "cell_type": "code",
   "execution_count": 1,
   "metadata": {},
   "outputs": [],
   "source": [
    "# Import the dependencies.\n",
    "import pandas as pd\n",
    "\n",
    "# Import the requests library.\n",
    "import requests"
   ]
  },
  {
   "cell_type": "code",
   "execution_count": 2,
   "metadata": {},
   "outputs": [],
   "source": [
    "# test_request_url = \"https://statsapi.web.nhl.com/api/v1/people/8477474\"\n",
    "test_request_url = \"https://statsapi.web.nhl.com/api/v1/people/8476459/stats?stats=statsSingleSeason&season=20182019\""
   ]
  },
  {
   "cell_type": "code",
   "execution_count": 3,
   "metadata": {},
   "outputs": [
    {
     "data": {
      "text/plain": [
       "<Response [200]>"
      ]
     },
     "execution_count": 3,
     "metadata": {},
     "output_type": "execute_result"
    }
   ],
   "source": [
    "test_request = requests.get(test_request_url)\n",
    "test_request"
   ]
  },
  {
   "cell_type": "code",
   "execution_count": 4,
   "metadata": {},
   "outputs": [
    {
     "data": {
      "text/plain": [
       "{'copyright': 'NHL and the NHL Shield are registered trademarks of the National Hockey League. NHL and NHL team marks are the property of the NHL and its teams. © NHL 2021. All Rights Reserved.',\n",
       " 'stats': [{'type': {'displayName': 'statsSingleSeason',\n",
       "    'gameType': {'id': 'R',\n",
       "     'description': 'Regular season',\n",
       "     'postseason': False}},\n",
       "   'splits': [{'season': '20182019',\n",
       "     'stat': {'timeOnIce': '1685:48',\n",
       "      'assists': 44,\n",
       "      'goals': 30,\n",
       "      'pim': 47,\n",
       "      'shots': 236,\n",
       "      'games': 82,\n",
       "      'hits': 134,\n",
       "      'powerPlayGoals': 11,\n",
       "      'powerPlayPoints': 23,\n",
       "      'powerPlayTimeOnIce': '233:19',\n",
       "      'evenTimeOnIce': '1289:49',\n",
       "      'penaltyMinutes': '47',\n",
       "      'faceOffPct': 49.67,\n",
       "      'shotPct': 12.71,\n",
       "      'gameWinningGoals': 5,\n",
       "      'overTimeGoals': 0,\n",
       "      'shortHandedGoals': 2,\n",
       "      'shortHandedPoints': 2,\n",
       "      'shortHandedTimeOnIce': '162:40',\n",
       "      'blocked': 66,\n",
       "      'plusMinus': -12,\n",
       "      'points': 74,\n",
       "      'shifts': 2084,\n",
       "      'timeOnIcePerGame': '20:33',\n",
       "      'evenTimeOnIcePerGame': '15:43',\n",
       "      'shortHandedTimeOnIcePerGame': '01:59',\n",
       "      'powerPlayTimeOnIcePerGame': '02:50'}}]}]}"
      ]
     },
     "execution_count": 4,
     "metadata": {},
     "output_type": "execute_result"
    }
   ],
   "source": [
    "test_request.json()"
   ]
  },
  {
   "cell_type": "code",
   "execution_count": 20,
   "metadata": {},
   "outputs": [],
   "source": [
    "# first, retrieve all team IDs/API codes\n",
    "# second, retrieve all rosters\n",
    "# third, retrieve stats for each player for each of the 3 seasons - if \"splits\" empty, then return 0 for stats"
   ]
  },
  {
   "cell_type": "code",
   "execution_count": 13,
   "metadata": {},
   "outputs": [
    {
     "data": {
      "text/plain": [
       "[{'ID': '1', 'Team': 'NJD'},\n",
       " {'ID': '2', 'Team': 'NYI'},\n",
       " {'ID': '3', 'Team': 'NYR'},\n",
       " {'ID': '4', 'Team': 'PHI'},\n",
       " {'ID': '5', 'Team': 'PIT'},\n",
       " {'ID': '6', 'Team': 'BOS'},\n",
       " {'ID': '7', 'Team': 'BUF'},\n",
       " {'ID': '8', 'Team': 'MTL'},\n",
       " {'ID': '9', 'Team': 'OTT'},\n",
       " {'ID': '10', 'Team': 'TOR'},\n",
       " {'ID': '12', 'Team': 'CAR'},\n",
       " {'ID': '13', 'Team': 'FLA'},\n",
       " {'ID': '14', 'Team': 'TBL'},\n",
       " {'ID': '15', 'Team': 'WSH'},\n",
       " {'ID': '16', 'Team': 'CHI'},\n",
       " {'ID': '17', 'Team': 'DET'},\n",
       " {'ID': '18', 'Team': 'NSH'},\n",
       " {'ID': '19', 'Team': 'STL'},\n",
       " {'ID': '20', 'Team': 'CGY'},\n",
       " {'ID': '21', 'Team': 'COL'},\n",
       " {'ID': '22', 'Team': 'EDM'},\n",
       " {'ID': '23', 'Team': 'VAN'},\n",
       " {'ID': '24', 'Team': 'ANA'},\n",
       " {'ID': '25', 'Team': 'DAL'},\n",
       " {'ID': '26', 'Team': 'LAK'},\n",
       " {'ID': '28', 'Team': 'SJS'},\n",
       " {'ID': '29', 'Team': 'CBJ'},\n",
       " {'ID': '30', 'Team': 'MIN'},\n",
       " {'ID': '52', 'Team': 'WPG'},\n",
       " {'ID': '53', 'Team': 'ARI'},\n",
       " {'ID': '54', 'Team': 'VGK'}]"
      ]
     },
     "execution_count": 13,
     "metadata": {},
     "output_type": "execute_result"
    }
   ],
   "source": [
    "# Create endpoint URL for team info\n",
    "team_url = 'https://statsapi.web.nhl.com/api/v1/teams'\n",
    "\n",
    "# Run API request for info on all teams\n",
    "team_info = requests.get(team_url).json()\n",
    "\n",
    "# Parse JSON to retrieve IDs for all active teams\n",
    "team_data = []\n",
    "\n",
    "for team in team_info[\"teams\"]:\n",
    "    team_data.append({\"ID\": str(team[\"id\"]),\n",
    "                      \"Team\": team[\"abbreviation\"]})\n",
    "team_data"
   ]
  },
  {
   "cell_type": "code",
   "execution_count": 14,
   "metadata": {},
   "outputs": [
    {
     "name": "stdout",
     "output_type": "stream",
     "text": [
      "https://statsapi.web.nhl.com/api/v1/teams/1/roster\n",
      "https://statsapi.web.nhl.com/api/v1/teams/2/roster\n",
      "https://statsapi.web.nhl.com/api/v1/teams/3/roster\n",
      "https://statsapi.web.nhl.com/api/v1/teams/4/roster\n",
      "https://statsapi.web.nhl.com/api/v1/teams/5/roster\n",
      "https://statsapi.web.nhl.com/api/v1/teams/6/roster\n",
      "https://statsapi.web.nhl.com/api/v1/teams/7/roster\n",
      "https://statsapi.web.nhl.com/api/v1/teams/8/roster\n",
      "https://statsapi.web.nhl.com/api/v1/teams/9/roster\n",
      "https://statsapi.web.nhl.com/api/v1/teams/10/roster\n",
      "https://statsapi.web.nhl.com/api/v1/teams/12/roster\n",
      "https://statsapi.web.nhl.com/api/v1/teams/13/roster\n",
      "https://statsapi.web.nhl.com/api/v1/teams/14/roster\n",
      "https://statsapi.web.nhl.com/api/v1/teams/15/roster\n",
      "https://statsapi.web.nhl.com/api/v1/teams/16/roster\n",
      "https://statsapi.web.nhl.com/api/v1/teams/17/roster\n",
      "https://statsapi.web.nhl.com/api/v1/teams/18/roster\n",
      "https://statsapi.web.nhl.com/api/v1/teams/19/roster\n",
      "https://statsapi.web.nhl.com/api/v1/teams/20/roster\n",
      "https://statsapi.web.nhl.com/api/v1/teams/21/roster\n",
      "https://statsapi.web.nhl.com/api/v1/teams/22/roster\n",
      "https://statsapi.web.nhl.com/api/v1/teams/23/roster\n",
      "https://statsapi.web.nhl.com/api/v1/teams/24/roster\n",
      "https://statsapi.web.nhl.com/api/v1/teams/25/roster\n",
      "https://statsapi.web.nhl.com/api/v1/teams/26/roster\n",
      "https://statsapi.web.nhl.com/api/v1/teams/28/roster\n",
      "https://statsapi.web.nhl.com/api/v1/teams/29/roster\n",
      "https://statsapi.web.nhl.com/api/v1/teams/30/roster\n",
      "https://statsapi.web.nhl.com/api/v1/teams/52/roster\n",
      "https://statsapi.web.nhl.com/api/v1/teams/53/roster\n",
      "https://statsapi.web.nhl.com/api/v1/teams/54/roster\n"
     ]
    }
   ],
   "source": [
    "# Creating list for player data\n",
    "player_data = []\n",
    "\n",
    "for team in team_data:\n",
    "    roster_url = team_url + \"/\" + team['ID'] + \"/roster\"\n",
    "    print(roster_url)"
   ]
  },
  {
   "cell_type": "code",
   "execution_count": null,
   "metadata": {},
   "outputs": [],
   "source": []
  }
 ],
 "metadata": {
  "kernelspec": {
   "display_name": "PythonData",
   "language": "python",
   "name": "pythondata"
  },
  "language_info": {
   "codemirror_mode": {
    "name": "ipython",
    "version": 3
   },
   "file_extension": ".py",
   "mimetype": "text/x-python",
   "name": "python",
   "nbconvert_exporter": "python",
   "pygments_lexer": "ipython3",
   "version": "3.7.7"
  }
 },
 "nbformat": 4,
 "nbformat_minor": 4
}
